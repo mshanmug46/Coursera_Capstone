{
    "cells": [
        {
            "cell_type": "markdown",
            "metadata": {
                "collapsed": true
            },
            "source": "# Capstone Project - The Battle of Neighborhoods\n## Exploring Frozen Dessert Shop in Scarborough, Toronto using Foursquare\n### Meenu Shanmugam\n### May 02, 2020"
        },
        {
            "cell_type": "markdown",
            "metadata": {},
            "source": "## 1.Introduction:\nScarborough, Toronto, is the most diverse and multicultural administrative division of Toronto, Canada. In addition, this multicultural city is full of parkland, safe and clean. Steadied by strong, highly regulated banks and buoyed by an educated workforce, this city provides a lot of business opportunities and a business-friendly environment. With a low net debt-to-GDP ratio, it has attracted many different players into the market. Hence, any new business venture or expansion is going to be highly competitive and needs to be analyzed carefully. The insights derived from analysis will give a good understanding of the business environment which help in strategically targeting the market. This will help in reduction of risk and the Return on Investment will be reasonable.\n\n## Problem Definition\nScarborough is known for its excellent cuisine and its food culture includes an array of international cuisines influenced by the city's immigrant history. Frozen dessert shops have become so popular in Toronto now it seems that there's one on every corner, not only in major cities but also in smaller cities. Starting a frozen dessert shop will be a good business opportunity, but you would like to tell yourself apart from others to enjoy long-term success. If you intend a frozen dessert shop which will demand higher prices, you need to focus in neighborhoods and outlets that already attract sophisticated clients. If you intend an inexpensive buffet restaurant, point to the masses searching for affordable high-traffic locations with large shopping centers and other local points of interest.\n\nFor this analysis, I plan to focus on the Scarborough area, as my father intends to open his business in that borough. We typically define potential neighborhoods based on the number of frozen dessert Shops which are operating right in each neighborhood. Scarborough has full potential but is also a really challenging district to open a business due to high competition. New frozen dessert Shop should be open in a vicinity that's an inadequate neighborhood, so that the shop can attract more customers. Therefore, this analysis is critical to confirm that we would attract enough customers and not very near to other frozen dessert Shops.\n\n"
        },
        {
            "cell_type": "markdown",
            "metadata": {},
            "source": "## Data\nData Link: https://en.wikipedia.org/wiki/List_of_postal_codes_of_Canada:_M\n\nWe will use Scarborough dataset which we scrapped from wikipedia on Week 3. This dataset contains latitude and longitude, zip codes.\n### Foursquare API Data:\nWe need data about different venues in all neighborhoods of Scarborough. \"Foursquare\" locational information helps to gain that information. Foursquare is a location technology platform which provides information about events and venues for a given area of interest. This location data consists of data points about venue names, locations, menus and even photos. As all the required information for this study can be obtained via API, foursquare location platform will be used as the primary data source. \n\nOnce the list of neighborhoods is finalized, we then connect to the Foursquare API to gather information about venues inside each and every neighborhood. For each neighborhood, we have chosen the radius to be 100 meters. \nThe retrieved data from Foursquare contained venue information of the longitude and latitude of the zip code (within the chosen 100 meters distance). The information obtained per venue as follows:\n\n1. Neighborhood\n2. Neighborhood Latitude\n3. Neighborhood Longitude\n4. Venue\n5. Venue Latitude\n6. Venue Longitude\n7. Venue Category\n"
        }
    ],
    "metadata": {
        "kernelspec": {
            "display_name": "Python 3.6",
            "language": "python",
            "name": "python3"
        },
        "language_info": {
            "codemirror_mode": {
                "name": "ipython",
                "version": 3
            },
            "file_extension": ".py",
            "mimetype": "text/x-python",
            "name": "python",
            "nbconvert_exporter": "python",
            "pygments_lexer": "ipython3",
            "version": "3.6.9"
        }
    },
    "nbformat": 4,
    "nbformat_minor": 1
}